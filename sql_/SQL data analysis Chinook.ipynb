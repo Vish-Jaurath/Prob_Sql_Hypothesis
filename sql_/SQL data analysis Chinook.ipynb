{
 "cells": [
  {
   "cell_type": "markdown",
   "metadata": {},
   "source": [
    "# SQL data analysis"
   ]
  },
  {
   "cell_type": "markdown",
   "metadata": {},
   "source": [
    "In this project I've used chinook database that contains information about the artists, songs, and albums from the music shop, as well as information on the shop's employees, customers, and the customers purchases. This information is contained in eleven tables."
   ]
  },
  {
   "cell_type": "code",
   "execution_count": 3,
   "metadata": {
    "collapsed": false
   },
   "outputs": [
    {
     "data": {
      "text/plain": [
       "'Connected: None@chinook.db'"
      ]
     },
     "execution_count": 3,
     "metadata": {},
     "output_type": "execute_result"
    }
   ],
   "source": [
    "%%capture\n",
    "%load_ext sql\n",
    "%sql sqlite:///chinook.db #To connect Jupyter Notebook to database file:"
   ]
  },
  {
   "cell_type": "markdown",
   "metadata": {},
   "source": [
    "### Overview of the Data"
   ]
  },
  {
   "cell_type": "code",
   "execution_count": 5,
   "metadata": {
    "collapsed": false
   },
   "outputs": [
    {
     "name": "stdout",
     "output_type": "stream",
     "text": [
      "Done.\n"
     ]
    },
    {
     "data": {
      "text/html": [
       "<table>\n",
       "    <tr>\n",
       "        <th>name</th>\n",
       "        <th>type</th>\n",
       "    </tr>\n",
       "    <tr>\n",
       "        <td>album</td>\n",
       "        <td>table</td>\n",
       "    </tr>\n",
       "    <tr>\n",
       "        <td>artist</td>\n",
       "        <td>table</td>\n",
       "    </tr>\n",
       "    <tr>\n",
       "        <td>customer</td>\n",
       "        <td>table</td>\n",
       "    </tr>\n",
       "    <tr>\n",
       "        <td>employee</td>\n",
       "        <td>table</td>\n",
       "    </tr>\n",
       "    <tr>\n",
       "        <td>genre</td>\n",
       "        <td>table</td>\n",
       "    </tr>\n",
       "    <tr>\n",
       "        <td>invoice</td>\n",
       "        <td>table</td>\n",
       "    </tr>\n",
       "    <tr>\n",
       "        <td>invoice_line</td>\n",
       "        <td>table</td>\n",
       "    </tr>\n",
       "    <tr>\n",
       "        <td>media_type</td>\n",
       "        <td>table</td>\n",
       "    </tr>\n",
       "    <tr>\n",
       "        <td>playlist</td>\n",
       "        <td>table</td>\n",
       "    </tr>\n",
       "    <tr>\n",
       "        <td>playlist_track</td>\n",
       "        <td>table</td>\n",
       "    </tr>\n",
       "    <tr>\n",
       "        <td>track</td>\n",
       "        <td>table</td>\n",
       "    </tr>\n",
       "    <tr>\n",
       "        <td>CUST_ONE</td>\n",
       "        <td>view</td>\n",
       "    </tr>\n",
       "    <tr>\n",
       "        <td>cust_1</td>\n",
       "        <td>view</td>\n",
       "    </tr>\n",
       "    <tr>\n",
       "        <td>cust</td>\n",
       "        <td>view</td>\n",
       "    </tr>\n",
       "</table>"
      ],
      "text/plain": [
       "[('album', 'table'),\n",
       " ('artist', 'table'),\n",
       " ('customer', 'table'),\n",
       " ('employee', 'table'),\n",
       " ('genre', 'table'),\n",
       " ('invoice', 'table'),\n",
       " ('invoice_line', 'table'),\n",
       " ('media_type', 'table'),\n",
       " ('playlist', 'table'),\n",
       " ('playlist_track', 'table'),\n",
       " ('track', 'table'),\n",
       " ('CUST_ONE', 'view'),\n",
       " ('cust_1', 'view'),\n",
       " ('cust', 'view')]"
      ]
     },
     "execution_count": 5,
     "metadata": {},
     "output_type": "execute_result"
    }
   ],
   "source": [
    "%%sql\n",
    "SELECT\n",
    "    name,\n",
    "    type\n",
    " FROM sqlite_master\n",
    " WHERE type IN (\"table\",\"view\");"
   ]
  },
  {
   "cell_type": "code",
   "execution_count": 6,
   "metadata": {
    "collapsed": false
   },
   "outputs": [
    {
     "name": "stdout",
     "output_type": "stream",
     "text": [
      "Done.\n"
     ]
    },
    {
     "data": {
      "text/html": [
       "<table>\n",
       "    <tr>\n",
       "        <th>album_id</th>\n",
       "        <th>title</th>\n",
       "        <th>artist_id</th>\n",
       "    </tr>\n",
       "    <tr>\n",
       "        <td>1</td>\n",
       "        <td>For Those About To Rock We Salute You</td>\n",
       "        <td>1</td>\n",
       "    </tr>\n",
       "    <tr>\n",
       "        <td>2</td>\n",
       "        <td>Balls to the Wall</td>\n",
       "        <td>2</td>\n",
       "    </tr>\n",
       "    <tr>\n",
       "        <td>3</td>\n",
       "        <td>Restless and Wild</td>\n",
       "        <td>2</td>\n",
       "    </tr>\n",
       "</table>"
      ],
      "text/plain": [
       "[(1, 'For Those About To Rock We Salute You', 1),\n",
       " (2, 'Balls to the Wall', 2),\n",
       " (3, 'Restless and Wild', 2)]"
      ]
     },
     "execution_count": 6,
     "metadata": {},
     "output_type": "execute_result"
    }
   ],
   "source": [
    "%%sql\n",
    "SELECT *\n",
    " FROM album\n",
    " LIMIT 3"
   ]
  },
  {
   "cell_type": "code",
   "execution_count": 7,
   "metadata": {
    "collapsed": false
   },
   "outputs": [
    {
     "name": "stdout",
     "output_type": "stream",
     "text": [
      "Done.\n"
     ]
    },
    {
     "data": {
      "text/html": [
       "<table>\n",
       "    <tr>\n",
       "        <th>playlist_id</th>\n",
       "        <th>track_id</th>\n",
       "    </tr>\n",
       "    <tr>\n",
       "        <td>1</td>\n",
       "        <td>3402</td>\n",
       "    </tr>\n",
       "    <tr>\n",
       "        <td>1</td>\n",
       "        <td>3389</td>\n",
       "    </tr>\n",
       "    <tr>\n",
       "        <td>1</td>\n",
       "        <td>3390</td>\n",
       "    </tr>\n",
       "</table>"
      ],
      "text/plain": [
       "[(1, 3402), (1, 3389), (1, 3390)]"
      ]
     },
     "execution_count": 7,
     "metadata": {},
     "output_type": "execute_result"
    }
   ],
   "source": [
    "%%sql\n",
    "SELECT *\n",
    " FROM playlist_track\n",
    " LIMIT 3"
   ]
  },
  {
   "cell_type": "code",
   "execution_count": 8,
   "metadata": {
    "collapsed": false
   },
   "outputs": [
    {
     "name": "stdout",
     "output_type": "stream",
     "text": [
      "Done.\n"
     ]
    },
    {
     "data": {
      "text/html": [
       "<table>\n",
       "    <tr>\n",
       "        <th>customer_id</th>\n",
       "        <th>first_name</th>\n",
       "        <th>last_name</th>\n",
       "        <th>company</th>\n",
       "        <th>address</th>\n",
       "        <th>city</th>\n",
       "        <th>state</th>\n",
       "        <th>country</th>\n",
       "        <th>postal_code</th>\n",
       "        <th>phone</th>\n",
       "        <th>fax</th>\n",
       "        <th>email</th>\n",
       "        <th>support_rep_id</th>\n",
       "    </tr>\n",
       "    <tr>\n",
       "        <td>1</td>\n",
       "        <td>Luís</td>\n",
       "        <td>Gonçalves</td>\n",
       "        <td>Embraer - Empresa Brasileira de Aeronáutica S.A.</td>\n",
       "        <td>Av. Brigadeiro Faria Lima, 2170</td>\n",
       "        <td>São José dos Campos</td>\n",
       "        <td>SP</td>\n",
       "        <td>Brazil</td>\n",
       "        <td>12227-000</td>\n",
       "        <td>+55 (12) 3923-5555</td>\n",
       "        <td>+55 (12) 3923-5566</td>\n",
       "        <td>luisg@embraer.com.br</td>\n",
       "        <td>3</td>\n",
       "    </tr>\n",
       "    <tr>\n",
       "        <td>2</td>\n",
       "        <td>Leonie</td>\n",
       "        <td>Köhler</td>\n",
       "        <td>None</td>\n",
       "        <td>Theodor-Heuss-Straße 34</td>\n",
       "        <td>Stuttgart</td>\n",
       "        <td>None</td>\n",
       "        <td>Germany</td>\n",
       "        <td>70174</td>\n",
       "        <td>+49 0711 2842222</td>\n",
       "        <td>None</td>\n",
       "        <td>leonekohler@surfeu.de</td>\n",
       "        <td>5</td>\n",
       "    </tr>\n",
       "    <tr>\n",
       "        <td>3</td>\n",
       "        <td>François</td>\n",
       "        <td>Tremblay</td>\n",
       "        <td>None</td>\n",
       "        <td>1498 rue Bélanger</td>\n",
       "        <td>Montréal</td>\n",
       "        <td>QC</td>\n",
       "        <td>Canada</td>\n",
       "        <td>H2G 1A7</td>\n",
       "        <td>+1 (514) 721-4711</td>\n",
       "        <td>None</td>\n",
       "        <td>ftremblay@gmail.com</td>\n",
       "        <td>3</td>\n",
       "    </tr>\n",
       "</table>"
      ],
      "text/plain": [
       "[(1, 'Luís', 'Gonçalves', 'Embraer - Empresa Brasileira de Aeronáutica S.A.', 'Av. Brigadeiro Faria Lima, 2170', 'São José dos Campos', 'SP', 'Brazil', '12227-000', '+55 (12) 3923-5555', '+55 (12) 3923-5566', 'luisg@embraer.com.br', 3),\n",
       " (2, 'Leonie', 'Köhler', None, 'Theodor-Heuss-Straße 34', 'Stuttgart', None, 'Germany', '70174', '+49 0711 2842222', None, 'leonekohler@surfeu.de', 5),\n",
       " (3, 'François', 'Tremblay', None, '1498 rue Bélanger', 'Montréal', 'QC', 'Canada', 'H2G 1A7', '+1 (514) 721-4711', None, 'ftremblay@gmail.com', 3)]"
      ]
     },
     "execution_count": 8,
     "metadata": {},
     "output_type": "execute_result"
    }
   ],
   "source": [
    "%%sql\n",
    "SELECT *\n",
    " FROM customer\n",
    " LIMIT 3"
   ]
  },
  {
   "cell_type": "code",
   "execution_count": 9,
   "metadata": {
    "collapsed": false
   },
   "outputs": [
    {
     "name": "stdout",
     "output_type": "stream",
     "text": [
      "Done.\n"
     ]
    },
    {
     "data": {
      "text/html": [
       "<table>\n",
       "    <tr>\n",
       "        <th>country</th>\n",
       "        <th>total_cust</th>\n",
       "        <th>total_sales</th>\n",
       "        <th>avg</th>\n",
       "        <th>cust_name</th>\n",
       "    </tr>\n",
       "    <tr>\n",
       "        <td>Other</td>\n",
       "        <td>1</td>\n",
       "        <td>39.599999999999994</td>\n",
       "        <td>7.919999999999999</td>\n",
       "        <td>Diego</td>\n",
       "    </tr>\n",
       "    <tr>\n",
       "        <td>Other</td>\n",
       "        <td>1</td>\n",
       "        <td>81.17999999999995</td>\n",
       "        <td>8.117999999999995</td>\n",
       "        <td>Mark</td>\n",
       "    </tr>\n",
       "    <tr>\n",
       "        <td>Other</td>\n",
       "        <td>1</td>\n",
       "        <td>69.30000000000001</td>\n",
       "        <td>7.700000000000001</td>\n",
       "        <td>Astrid</td>\n",
       "    </tr>\n",
       "</table>"
      ],
      "text/plain": [
       "[('Other', 1, 39.599999999999994, 7.919999999999999, 'Diego'),\n",
       " ('Other', 1, 81.17999999999995, 8.117999999999995, 'Mark'),\n",
       " ('Other', 1, 69.30000000000001, 7.700000000000001, 'Astrid')]"
      ]
     },
     "execution_count": 9,
     "metadata": {},
     "output_type": "execute_result"
    }
   ],
   "source": [
    "%%sql\n",
    "SELECT *\n",
    " FROM cust\n",
    " LIMIT 3"
   ]
  },
  {
   "cell_type": "markdown",
   "metadata": {},
   "source": [
    "I've used existing data to find out which new artist to be added in Chinook db based on different genres music customers are enjoying in USA, so I'm interested in finding out which genres sell the best in the USA."
   ]
  },
  {
   "cell_type": "code",
   "execution_count": 29,
   "metadata": {
    "collapsed": false
   },
   "outputs": [
    {
     "name": "stdout",
     "output_type": "stream",
     "text": [
      "Done.\n"
     ]
    },
    {
     "data": {
      "text/html": [
       "<table>\n",
       "    <tr>\n",
       "        <th>Genre</th>\n",
       "        <th>Artist_Name</th>\n",
       "        <th>Tracks_Sold</th>\n",
       "        <th>Per_Sold</th>\n",
       "    </tr>\n",
       "    <tr>\n",
       "        <td>Rock</td>\n",
       "        <td>The Who</td>\n",
       "        <td>561</td>\n",
       "        <td>53.37773549000951</td>\n",
       "    </tr>\n",
       "    <tr>\n",
       "        <td>Alternative &amp; Punk</td>\n",
       "        <td>Green Day</td>\n",
       "        <td>130</td>\n",
       "        <td>12.369172216936251</td>\n",
       "    </tr>\n",
       "    <tr>\n",
       "        <td>Metal</td>\n",
       "        <td>Godsmack</td>\n",
       "        <td>124</td>\n",
       "        <td>11.798287345385347</td>\n",
       "    </tr>\n",
       "    <tr>\n",
       "        <td>R&amp;B/Soul</td>\n",
       "        <td>Amy Winehouse</td>\n",
       "        <td>53</td>\n",
       "        <td>5.042816365366318</td>\n",
       "    </tr>\n",
       "    <tr>\n",
       "        <td>Blues</td>\n",
       "        <td>Buddy Guy</td>\n",
       "        <td>36</td>\n",
       "        <td>3.425309229305423</td>\n",
       "    </tr>\n",
       "    <tr>\n",
       "        <td>Alternative</td>\n",
       "        <td>Chris Cornell</td>\n",
       "        <td>35</td>\n",
       "        <td>3.3301617507136063</td>\n",
       "    </tr>\n",
       "    <tr>\n",
       "        <td>Latin</td>\n",
       "        <td>Eric Clapton</td>\n",
       "        <td>22</td>\n",
       "        <td>2.093244529019981</td>\n",
       "    </tr>\n",
       "    <tr>\n",
       "        <td>Pop</td>\n",
       "        <td>U2</td>\n",
       "        <td>22</td>\n",
       "        <td>2.093244529019981</td>\n",
       "    </tr>\n",
       "</table>"
      ],
      "text/plain": [
       "[('Rock', 'The Who', 561, 53.37773549000951),\n",
       " ('Alternative & Punk', 'Green Day', 130, 12.369172216936251),\n",
       " ('Metal', 'Godsmack', 124, 11.798287345385347),\n",
       " ('R&B/Soul', 'Amy Winehouse', 53, 5.042816365366318),\n",
       " ('Blues', 'Buddy Guy', 36, 3.425309229305423),\n",
       " ('Alternative', 'Chris Cornell', 35, 3.3301617507136063),\n",
       " ('Latin', 'Eric Clapton', 22, 2.093244529019981),\n",
       " ('Pop', 'U2', 22, 2.093244529019981)]"
      ]
     },
     "execution_count": 29,
     "metadata": {},
     "output_type": "execute_result"
    }
   ],
   "source": [
    "%%sql\n",
    "WITH usa AS\n",
    " ( SELECT c.*, il.*\n",
    "    FROM customer c\n",
    "    INNER JOIN invoice i ON i.customer_id=c.customer_id\n",
    "    INNER JOIN invoice_line il ON il.invoice_id=i.invoice_id\n",
    "    WHERE c.country = 'USA'  \n",
    " )\n",
    " \n",
    "SELECT \n",
    "    g.name Genre, \n",
    "    ar.name Artist_Name,\n",
    "    COUNT(u.invoice_line_id) Tracks_Sold,\n",
    "    CAST(COUNT(u.invoice_line_id) AS FLOAT)/(SELECT COUNT(*) from usa) *100 Per_Sold \n",
    "    FROM usa u\n",
    "    INNER JOIN track t ON t.track_id = u.track_id \n",
    "    INNER JOIN genre g ON g.genre_id = t.genre_id\n",
    "    INNER JOIN album al ON al.album_id = t.album_id\n",
    "    INNER JOIN artist ar ON ar.artist_id = al.artist_id\n",
    "    GROUP BY 1\n",
    "    ORDER BY 3 DESC\n",
    "    limit 8\n",
    "    "
   ]
  },
  {
   "cell_type": "markdown",
   "metadata": {
    "collapsed": false
   },
   "source": [
    "Based on the tracks sold in USA across different genres, we should purchase new albums by following artist:\n",
    "1. Red Tone\n",
    "2. Slim Jim Bites\n",
    "3. Meteor and the Girls"
   ]
  },
  {
   "cell_type": "markdown",
   "metadata": {},
   "source": [
    "### Analyzing Employee Sales Performance\n",
    "\n",
    "Each customer for the Chinook store gets assigned to a sales support agent within the company when they first make a purchase. The task is to analyze the purchases of customers belonging to each employee to see how the sales support agent is performing."
   ]
  },
  {
   "cell_type": "code",
   "execution_count": 42,
   "metadata": {
    "collapsed": false
   },
   "outputs": [
    {
     "name": "stdout",
     "output_type": "stream",
     "text": [
      "Done.\n"
     ]
    },
    {
     "data": {
      "text/html": [
       "<table>\n",
       "    <tr>\n",
       "        <th>Amount</th>\n",
       "        <th>Emp_Name</th>\n",
       "        <th>Cust_Name</th>\n",
       "        <th>hire_date</th>\n",
       "    </tr>\n",
       "    <tr>\n",
       "        <td>1731.5100000000039</td>\n",
       "        <td>Jane Peacock</td>\n",
       "        <td>Phil Hughes</td>\n",
       "        <td>2017-04-01 00:00:00</td>\n",
       "    </tr>\n",
       "    <tr>\n",
       "        <td>1584.0000000000034</td>\n",
       "        <td>Margaret Park</td>\n",
       "        <td>Dan Miller</td>\n",
       "        <td>2017-05-03 00:00:00</td>\n",
       "    </tr>\n",
       "    <tr>\n",
       "        <td>1393.920000000002</td>\n",
       "        <td>Steve Johnson</td>\n",
       "        <td>Mark Philips</td>\n",
       "        <td>2017-10-17 00:00:00</td>\n",
       "    </tr>\n",
       "</table>"
      ],
      "text/plain": [
       "[(1731.5100000000039, 'Jane Peacock', 'Phil Hughes', '2017-04-01 00:00:00'),\n",
       " (1584.0000000000034, 'Margaret Park', 'Dan Miller', '2017-05-03 00:00:00'),\n",
       " (1393.920000000002, 'Steve Johnson', 'Mark Philips', '2017-10-17 00:00:00')]"
      ]
     },
     "execution_count": 42,
     "metadata": {},
     "output_type": "execute_result"
    }
   ],
   "source": [
    "%%sql\n",
    "SELECT \n",
    "    sum(i.total) Amount,\n",
    "    e.first_name||' '||e.last_name Emp_Name,\n",
    "    c.first_name||' '||c.last_name Cust_Name,\n",
    "    e.hire_date\n",
    "    FROM employee e\n",
    "    INNER JOIN customer c ON c.support_rep_id=e.employee_id\n",
    "    INNER JOIN invoice i ON i.customer_id=c.customer_id\n",
    "    WHERE e.title = 'Sales Support Agent'\n",
    "    GROUP BY 2\n",
    "    ORDER BY 1 DESC"
   ]
  },
  {
   "cell_type": "markdown",
   "metadata": {},
   "source": [
    "As per the observation the difeerence between Jane Peacock and Steve Johnson is around $338 , this might be because of the difference in the hiring dates."
   ]
  },
  {
   "cell_type": "markdown",
   "metadata": {},
   "source": [
    "### Analyzing Sales by Country"
   ]
  },
  {
   "cell_type": "code",
   "execution_count": 73,
   "metadata": {
    "collapsed": false
   },
   "outputs": [
    {
     "name": "stdout",
     "output_type": "stream",
     "text": [
      "Done.\n"
     ]
    },
    {
     "data": {
      "text/plain": [
       "[]"
      ]
     },
     "execution_count": 73,
     "metadata": {},
     "output_type": "execute_result"
    }
   ],
   "source": [
    "%%sql\n",
    "\n",
    "CREATE VIEW cust AS\n",
    "  SELECT\n",
    "    CASE\n",
    "        WHEN (\n",
    "                SELECT count(*)\n",
    "                FROM customer\n",
    "                WHERE country = c.country\n",
    "                ) = 1 THEN \"Other\" # Where a country has only one customer, collected them into an \"Other\" group.\n",
    "        ELSE country\n",
    "    END AS Country,\n",
    "    COUNT(DISTINCT c.customer_id) Total_Customers,\n",
    "    SUM(il.unit_price) Total_Sales,\n",
    "    SUM(il.unit_price)/COUNT(DISTINCT i.invoice_id) AVG_Sales_Per_Customer,\n",
    "    c.first_name Customer_name\n",
    "       \n",
    "    FROM customer c \n",
    "    INNER JOIN invoice i ON i.customer_id =c.customer_id\n",
    "    INNER JOIN invoice_line il ON il.invoice_id=i.invoice_id     \n",
    "    GROUP BY country;\n"
   ]
  },
  {
   "cell_type": "code",
   "execution_count": 75,
   "metadata": {
    "collapsed": false
   },
   "outputs": [
    {
     "name": "stdout",
     "output_type": "stream",
     "text": [
      "Done.\n"
     ]
    },
    {
     "data": {
      "text/html": [
       "<table>\n",
       "    <tr>\n",
       "        <th>Country</th>\n",
       "        <th>Total_Customers</th>\n",
       "        <th>Total_Sales</th>\n",
       "        <th>AVG_Sales_Per_Customer</th>\n",
       "        <th>Customer_name</th>\n",
       "    </tr>\n",
       "    <tr>\n",
       "        <td>Other</td>\n",
       "        <td>1</td>\n",
       "        <td>39.599999999999994</td>\n",
       "        <td>7.919999999999999</td>\n",
       "        <td>Diego</td>\n",
       "    </tr>\n",
       "    <tr>\n",
       "        <td>Other</td>\n",
       "        <td>1</td>\n",
       "        <td>81.17999999999995</td>\n",
       "        <td>8.117999999999995</td>\n",
       "        <td>Mark</td>\n",
       "    </tr>\n",
       "    <tr>\n",
       "        <td>Other</td>\n",
       "        <td>1</td>\n",
       "        <td>69.30000000000001</td>\n",
       "        <td>7.700000000000001</td>\n",
       "        <td>Astrid</td>\n",
       "    </tr>\n",
       "    <tr>\n",
       "        <td>Other</td>\n",
       "        <td>1</td>\n",
       "        <td>60.390000000000036</td>\n",
       "        <td>8.627142857142863</td>\n",
       "        <td>Daan</td>\n",
       "    </tr>\n",
       "    <tr>\n",
       "        <td>Brazil</td>\n",
       "        <td>5</td>\n",
       "        <td>427.68000000000245</td>\n",
       "        <td>7.011147540983647</td>\n",
       "        <td>Fernanda</td>\n",
       "    </tr>\n",
       "    <tr>\n",
       "        <td>Canada</td>\n",
       "        <td>8</td>\n",
       "        <td>535.5900000000034</td>\n",
       "        <td>7.047236842105309</td>\n",
       "        <td>Ellie</td>\n",
       "    </tr>\n",
       "    <tr>\n",
       "        <td>Other</td>\n",
       "        <td>1</td>\n",
       "        <td>97.01999999999987</td>\n",
       "        <td>7.463076923076913</td>\n",
       "        <td>Luis</td>\n",
       "    </tr>\n",
       "    <tr>\n",
       "        <td>Czech Republic</td>\n",
       "        <td>2</td>\n",
       "        <td>273.24000000000103</td>\n",
       "        <td>9.108000000000034</td>\n",
       "        <td>František</td>\n",
       "    </tr>\n",
       "    <tr>\n",
       "        <td>Other</td>\n",
       "        <td>1</td>\n",
       "        <td>37.61999999999999</td>\n",
       "        <td>3.761999999999999</td>\n",
       "        <td>Kara</td>\n",
       "    </tr>\n",
       "    <tr>\n",
       "        <td>Other</td>\n",
       "        <td>1</td>\n",
       "        <td>79.19999999999996</td>\n",
       "        <td>7.199999999999997</td>\n",
       "        <td>Terhi</td>\n",
       "    </tr>\n",
       "    <tr>\n",
       "        <td>France</td>\n",
       "        <td>5</td>\n",
       "        <td>389.0700000000021</td>\n",
       "        <td>7.781400000000042</td>\n",
       "        <td>Wyatt</td>\n",
       "    </tr>\n",
       "    <tr>\n",
       "        <td>Germany</td>\n",
       "        <td>4</td>\n",
       "        <td>334.6200000000016</td>\n",
       "        <td>8.161463414634186</td>\n",
       "        <td>Leonie</td>\n",
       "    </tr>\n",
       "    <tr>\n",
       "        <td>Other</td>\n",
       "        <td>1</td>\n",
       "        <td>78.20999999999997</td>\n",
       "        <td>7.820999999999996</td>\n",
       "        <td>Ladislav</td>\n",
       "    </tr>\n",
       "    <tr>\n",
       "        <td>India</td>\n",
       "        <td>2</td>\n",
       "        <td>183.1500000000002</td>\n",
       "        <td>8.72142857142858</td>\n",
       "        <td>Puja</td>\n",
       "    </tr>\n",
       "    <tr>\n",
       "        <td>Other</td>\n",
       "        <td>1</td>\n",
       "        <td>114.83999999999978</td>\n",
       "        <td>8.833846153846137</td>\n",
       "        <td>Hugh</td>\n",
       "    </tr>\n",
       "    <tr>\n",
       "        <td>Other</td>\n",
       "        <td>1</td>\n",
       "        <td>50.490000000000016</td>\n",
       "        <td>5.610000000000002</td>\n",
       "        <td>Lucas</td>\n",
       "    </tr>\n",
       "    <tr>\n",
       "        <td>Other</td>\n",
       "        <td>1</td>\n",
       "        <td>65.34000000000003</td>\n",
       "        <td>6.534000000000003</td>\n",
       "        <td>Johannes</td>\n",
       "    </tr>\n",
       "    <tr>\n",
       "        <td>Other</td>\n",
       "        <td>1</td>\n",
       "        <td>72.27</td>\n",
       "        <td>8.03</td>\n",
       "        <td>Bjørn</td>\n",
       "    </tr>\n",
       "    <tr>\n",
       "        <td>Other</td>\n",
       "        <td>1</td>\n",
       "        <td>76.22999999999998</td>\n",
       "        <td>7.6229999999999976</td>\n",
       "        <td>Stanisław</td>\n",
       "    </tr>\n",
       "    <tr>\n",
       "        <td>Portugal</td>\n",
       "        <td>2</td>\n",
       "        <td>185.13000000000022</td>\n",
       "        <td>6.3837931034482835</td>\n",
       "        <td>Madalena</td>\n",
       "    </tr>\n",
       "    <tr>\n",
       "        <td>Other</td>\n",
       "        <td>1</td>\n",
       "        <td>98.00999999999986</td>\n",
       "        <td>8.909999999999988</td>\n",
       "        <td>Enrique</td>\n",
       "    </tr>\n",
       "    <tr>\n",
       "        <td>Other</td>\n",
       "        <td>1</td>\n",
       "        <td>75.23999999999998</td>\n",
       "        <td>7.523999999999998</td>\n",
       "        <td>Joakim</td>\n",
       "    </tr>\n",
       "    <tr>\n",
       "        <td>USA</td>\n",
       "        <td>13</td>\n",
       "        <td>1040.490000000008</td>\n",
       "        <td>7.942671755725252</td>\n",
       "        <td>Dan</td>\n",
       "    </tr>\n",
       "    <tr>\n",
       "        <td>United Kingdom</td>\n",
       "        <td>3</td>\n",
       "        <td>245.52000000000078</td>\n",
       "        <td>8.768571428571457</td>\n",
       "        <td>Phil</td>\n",
       "    </tr>\n",
       "</table>"
      ],
      "text/plain": [
       "[('Other', 1, 39.599999999999994, 7.919999999999999, 'Diego'),\n",
       " ('Other', 1, 81.17999999999995, 8.117999999999995, 'Mark'),\n",
       " ('Other', 1, 69.30000000000001, 7.700000000000001, 'Astrid'),\n",
       " ('Other', 1, 60.390000000000036, 8.627142857142863, 'Daan'),\n",
       " ('Brazil', 5, 427.68000000000245, 7.011147540983647, 'Fernanda'),\n",
       " ('Canada', 8, 535.5900000000034, 7.047236842105309, 'Ellie'),\n",
       " ('Other', 1, 97.01999999999987, 7.463076923076913, 'Luis'),\n",
       " ('Czech Republic', 2, 273.24000000000103, 9.108000000000034, 'František'),\n",
       " ('Other', 1, 37.61999999999999, 3.761999999999999, 'Kara'),\n",
       " ('Other', 1, 79.19999999999996, 7.199999999999997, 'Terhi'),\n",
       " ('France', 5, 389.0700000000021, 7.781400000000042, 'Wyatt'),\n",
       " ('Germany', 4, 334.6200000000016, 8.161463414634186, 'Leonie'),\n",
       " ('Other', 1, 78.20999999999997, 7.820999999999996, 'Ladislav'),\n",
       " ('India', 2, 183.1500000000002, 8.72142857142858, 'Puja'),\n",
       " ('Other', 1, 114.83999999999978, 8.833846153846137, 'Hugh'),\n",
       " ('Other', 1, 50.490000000000016, 5.610000000000002, 'Lucas'),\n",
       " ('Other', 1, 65.34000000000003, 6.534000000000003, 'Johannes'),\n",
       " ('Other', 1, 72.27, 8.03, 'Bjørn'),\n",
       " ('Other', 1, 76.22999999999998, 7.6229999999999976, 'Stanisław'),\n",
       " ('Portugal', 2, 185.13000000000022, 6.3837931034482835, 'Madalena'),\n",
       " ('Other', 1, 98.00999999999986, 8.909999999999988, 'Enrique'),\n",
       " ('Other', 1, 75.23999999999998, 7.523999999999998, 'Joakim'),\n",
       " ('USA', 13, 1040.490000000008, 7.942671755725252, 'Dan'),\n",
       " ('United Kingdom', 3, 245.52000000000078, 8.768571428571457, 'Phil')]"
      ]
     },
     "execution_count": 75,
     "metadata": {},
     "output_type": "execute_result"
    }
   ],
   "source": [
    "%%sql\n",
    "SELECT * \n",
    " FROM cust"
   ]
  },
  {
   "cell_type": "code",
   "execution_count": 93,
   "metadata": {
    "collapsed": false
   },
   "outputs": [
    {
     "name": "stdout",
     "output_type": "stream",
     "text": [
      "Done.\n"
     ]
    },
    {
     "data": {
      "text/html": [
       "<table>\n",
       "    <tr>\n",
       "        <th>Country</th>\n",
       "        <th>Total_Customers</th>\n",
       "        <th>Total_Sales</th>\n",
       "        <th>AVG_Sales_Per_Customer</th>\n",
       "        <th>Customer_name</th>\n",
       "        <th>Sorting</th>\n",
       "    </tr>\n",
       "    <tr>\n",
       "        <td>Czech Republic</td>\n",
       "        <td>2</td>\n",
       "        <td>273.24000000000103</td>\n",
       "        <td>9.108000000000034</td>\n",
       "        <td>František</td>\n",
       "        <td>0</td>\n",
       "    </tr>\n",
       "    <tr>\n",
       "        <td>United Kingdom</td>\n",
       "        <td>3</td>\n",
       "        <td>245.52000000000078</td>\n",
       "        <td>8.768571428571457</td>\n",
       "        <td>Phil</td>\n",
       "        <td>0</td>\n",
       "    </tr>\n",
       "    <tr>\n",
       "        <td>India</td>\n",
       "        <td>2</td>\n",
       "        <td>183.1500000000002</td>\n",
       "        <td>8.72142857142858</td>\n",
       "        <td>Puja</td>\n",
       "        <td>0</td>\n",
       "    </tr>\n",
       "    <tr>\n",
       "        <td>Germany</td>\n",
       "        <td>4</td>\n",
       "        <td>334.6200000000016</td>\n",
       "        <td>8.161463414634186</td>\n",
       "        <td>Leonie</td>\n",
       "        <td>0</td>\n",
       "    </tr>\n",
       "    <tr>\n",
       "        <td>USA</td>\n",
       "        <td>13</td>\n",
       "        <td>1040.490000000008</td>\n",
       "        <td>7.942671755725252</td>\n",
       "        <td>Dan</td>\n",
       "        <td>0</td>\n",
       "    </tr>\n",
       "    <tr>\n",
       "        <td>France</td>\n",
       "        <td>5</td>\n",
       "        <td>389.0700000000021</td>\n",
       "        <td>7.781400000000042</td>\n",
       "        <td>Wyatt</td>\n",
       "        <td>0</td>\n",
       "    </tr>\n",
       "    <tr>\n",
       "        <td>Other</td>\n",
       "        <td>1</td>\n",
       "        <td>75.23999999999998</td>\n",
       "        <td>7.523999999999998</td>\n",
       "        <td>Joakim</td>\n",
       "        <td>1</td>\n",
       "    </tr>\n",
       "    <tr>\n",
       "        <td>Canada</td>\n",
       "        <td>8</td>\n",
       "        <td>535.5900000000034</td>\n",
       "        <td>7.047236842105309</td>\n",
       "        <td>Ellie</td>\n",
       "        <td>0</td>\n",
       "    </tr>\n",
       "    <tr>\n",
       "        <td>Brazil</td>\n",
       "        <td>5</td>\n",
       "        <td>427.68000000000245</td>\n",
       "        <td>7.011147540983647</td>\n",
       "        <td>Fernanda</td>\n",
       "        <td>0</td>\n",
       "    </tr>\n",
       "    <tr>\n",
       "        <td>Portugal</td>\n",
       "        <td>2</td>\n",
       "        <td>185.13000000000022</td>\n",
       "        <td>6.3837931034482835</td>\n",
       "        <td>Madalena</td>\n",
       "        <td>0</td>\n",
       "    </tr>\n",
       "</table>"
      ],
      "text/plain": [
       "[('Czech Republic', 2, 273.24000000000103, 9.108000000000034, 'František', 0),\n",
       " ('United Kingdom', 3, 245.52000000000078, 8.768571428571457, 'Phil', 0),\n",
       " ('India', 2, 183.1500000000002, 8.72142857142858, 'Puja', 0),\n",
       " ('Germany', 4, 334.6200000000016, 8.161463414634186, 'Leonie', 0),\n",
       " ('USA', 13, 1040.490000000008, 7.942671755725252, 'Dan', 0),\n",
       " ('France', 5, 389.0700000000021, 7.781400000000042, 'Wyatt', 0),\n",
       " ('Other', 1, 75.23999999999998, 7.523999999999998, 'Joakim', 1),\n",
       " ('Canada', 8, 535.5900000000034, 7.047236842105309, 'Ellie', 0),\n",
       " ('Brazil', 5, 427.68000000000245, 7.011147540983647, 'Fernanda', 0),\n",
       " ('Portugal', 2, 185.13000000000022, 6.3837931034482835, 'Madalena', 0)]"
      ]
     },
     "execution_count": 93,
     "metadata": {},
     "output_type": "execute_result"
    }
   ],
   "source": [
    "%%sql\n",
    "SELECT *,\n",
    "    CASE\n",
    "        WHEN Country ='Other' THEN 1\n",
    "        ELSE 0\n",
    "        END\n",
    "        AS Sorting\n",
    "    FROM cust \n",
    "    GROUP BY country\n",
    "    ORDER BY AVG_Sales_Per_Customer desc\n"
   ]
  },
  {
   "cell_type": "markdown",
   "metadata": {},
   "source": [
    "As per the observation, following countries are having highest average sales:\n",
    "1. Czech Republic\n",
    "2. United Kingdom\n",
    "3. India"
   ]
  },
  {
   "cell_type": "markdown",
   "metadata": {},
   "source": [
    "Using Chinook data I've analyzed Employee Sales Performance, sales by country, Top albums based on Genres."
   ]
  }
 ],
 "metadata": {
  "kernelspec": {
   "display_name": "Python 3",
   "language": "python",
   "name": "python3"
  },
  "language_info": {
   "codemirror_mode": {
    "name": "ipython",
    "version": 3
   },
   "file_extension": ".py",
   "mimetype": "text/x-python",
   "name": "python",
   "nbconvert_exporter": "python",
   "pygments_lexer": "ipython3",
   "version": "3.4.3"
  }
 },
 "nbformat": 4,
 "nbformat_minor": 2
}
